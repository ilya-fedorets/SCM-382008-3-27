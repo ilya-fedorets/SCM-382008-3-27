{
 "cells": [
  {
   "cell_type": "markdown",
   "metadata": {},
   "source": [
    "# 27. Метод разделимых наименьших квадратов. Квантовые дефекты"
   ]
  },
  {
   "cell_type": "markdown",
   "metadata": {},
   "source": [
    "## Постановка задачи\n",
    "\n",
    "Суть вышеназванного метода - сумма квадратов отклонений фактических значений функции Y от значений, найденных по уравнению регрессии, должна быть наименьшей.\n",
    "\n",
    "Рассмотрим этот метод на примере квантовых дефектов в атомах йода.\n",
    "Данные из исследований мы имеем.\n",
    "\n",
    "Предиктор  𝑥  – возбужденное состояние энергии.\n",
    "Переменная отклика  𝑦  – число квантовых дефектов."
   ]
  },
  {
   "cell_type": "code",
   "execution_count": 1,
   "metadata": {},
   "outputs": [],
   "source": [
    "import matplotlib.pyplot as plt\n",
    "import scipy.constants as sc\n",
    "from scipy.optimize import curve_fit\n",
    "import numpy as np\n",
    "import pandas as pd"
   ]
  },
  {
   "cell_type": "code",
   "execution_count": 2,
   "metadata": {},
   "outputs": [],
   "source": [
    "def formula (x, b1, b2, b3, b4):\n",
    "    return b1-b2*x-(np.arctan(b3/(x-b4))/sc.pi)"
   ]
  },
  {
   "cell_type": "code",
   "execution_count": 3,
   "metadata": {
    "scrolled": true
   },
   "outputs": [],
   "source": [
    "x_initial_data = np.array([-4868.68, -4868.09, -4867.41, -3375.19, -3373.14, -3372.03, -2473.74, -2472.35, \n",
    "                   -2469.45, -1894.65, -1893.40, -1497.24, -1495.85, -1493.41, -1208.68, -1206.18, \n",
    "                   -1206.04, -997.92, -996.61, -996.31, -834.94, -834.66, -710.03, -530.16, -464.17])\n",
    "y_initial_data = np.array([0.252429, 0.252141, 0.251809, 0.297989, 0.296257, 0.295319, 0.339603, 0.337731,\n",
    "                   0.333820, 0.389510, 0.386998, 0.438864, 0.434887, 0.427893, 0.471568, 0.461699, \n",
    "                   0.461144, 0.513532, 0.506641, 0.505062, 0.535648, 0.533726, 0.568064, 0.612886, 0.624169])"
   ]
  },
  {
   "cell_type": "markdown",
   "metadata": {},
   "source": [
    "## Начало работы\n",
    "\n",
    "Для начала построим точечный график функции (такой точечный график называют корреляционным полем)\n",
    "\n",
    "Затем (по методу наименьших разделимых квадратов) подберем\n",
    "прямую линию, которая ближе всего расположена к точкам. Согласно вышеуказанному методу, линия выбирается так, чтобы сумма квадратов расстояний по вертикали между точками и этой линией была бы минимальной."
   ]
  },
  {
   "cell_type": "code",
   "execution_count": 4,
   "metadata": {},
   "outputs": [
    {
     "data": {
      "image/png": "[encoded data removed]",
      "text/plain": [
       "<Figure size 432x288 with 1 Axes>"
      ]
     },
     "metadata": {
      "needs_background": "light"
     },
     "output_type": "display_data"
    }
   ],
   "source": [
    "plt.plot(x_initial_data, y_initial_data, 'o')\n",
    "plt.grid()"
   ]
  },
  {
   "cell_type": "markdown",
   "metadata": {},
   "source": [
    "## Сбор данных (используя метод наименьших разделимых квадратов)\n",
    "\n",
    "#### (1)Найдем числовые значения параметров функции"
   ]
  },
  {
   "cell_type": "code",
   "execution_count": 5,
   "metadata": {},
   "outputs": [
    {
     "data": {
      "text/plain": [
       "array([ 2.01968489e-01, -6.19532468e-06,  1.20445636e+03, -1.81343092e+02])"
      ]
     },
     "execution_count": 5,
     "metadata": {},
     "output_type": "execute_result"
    }
   ],
   "source": [
    "form_gr, tmp = curve_fit(formula, x_initial_data, y_initial_data)\n",
    "form_gr"
   ]
  },
  {
   "cell_type": "markdown",
   "metadata": {},
   "source": [
    "##### (2) Найдем для точек разбиения (20 точек с интервалом в 0.1) значения остальных параметров, при которых значения функции является наименьшим\n",
    "(b3 = 1204)  // или 1.20445636e+03"
   ]
  },
  {
   "cell_type": "code",
   "execution_count": 6,
   "metadata": {},
   "outputs": [],
   "source": [
    "split_points = np.array ([1203.1, 1203.2, 1203.3, 1203.4, 1203.5, 1203.6, 1203.7, 1203.8, 1203.9, 1204.0, \n",
    "                1204.1, 1204.2, 1204.3, 1204.4, 1204.5, 1204.6, 1204.7, 1204.8, 1204.9, 1205.0])"
   ]
  },
  {
   "cell_type": "markdown",
   "metadata": {},
   "source": [
    "##### (3)Создаём массив, в который внесем численные значения при точках разбиения. Высчитаем параметры при точках разбиения, функцию и найдем ее минимум"
   ]
  },
  {
   "cell_type": "code",
   "execution_count": 7,
   "metadata": {},
   "outputs": [
    {
     "name": "stdout",
     "output_type": "stream",
     "text": [
      "0.0004948484815254665\n"
     ]
    }
   ],
   "source": [
    "function = [0,0,0,0,0,0,0,0,0,0,0,0,0,0,0,0,0,0,0,0]\n",
    "\n",
    "for i in range(20):\n",
    "    b3 = split_points[i]\n",
    "    def fnctn(x,b1,b2,b4):\n",
    "        return b1-b2*x-(np.arctan(b3/(x-b4))/sc.pi)\n",
    "    form_gr, tmp = curve_fit(fnctn, x_initial_data, y_initial_data)\n",
    "    \n",
    "    def f_gr(x,y,b1,b2,b4):\n",
    "        return sum((b1-b2*x-(np.arctan(b3/(x-b4))/sc.pi)-y)**2)\n",
    "    \n",
    "    function[i] = f_gr(x_initial_data, y_initial_data, *form_gr)\n",
    "    \n",
    "print(min(function))"
   ]
  },
  {
   "cell_type": "markdown",
   "metadata": {},
   "source": [
    "##### (4)Найдем индекс полученного значения минимума функции"
   ]
  },
  {
   "cell_type": "code",
   "execution_count": 8,
   "metadata": {},
   "outputs": [
    {
     "data": {
      "text/plain": [
       "14"
      ]
     },
     "execution_count": 8,
     "metadata": {},
     "output_type": "execute_result"
    }
   ],
   "source": [
    "function.index(0.0004948484815254665)"
   ]
  },
  {
   "cell_type": "markdown",
   "metadata": {},
   "source": [
    "##### Данному индексу соответвстует 14 элемент из массива численных значений при точках разбиения."
   ]
  },
  {
   "cell_type": "code",
   "execution_count": 9,
   "metadata": {},
   "outputs": [
    {
     "data": {
      "text/plain": [
       "1204.5"
      ]
     },
     "execution_count": 9,
     "metadata": {},
     "output_type": "execute_result"
    }
   ],
   "source": [
    "split_points[14]"
   ]
  },
  {
   "cell_type": "markdown",
   "metadata": {},
   "source": [
    "##### (5)Найдем остальные параметры, используя b3"
   ]
  },
  {
   "cell_type": "code",
   "execution_count": 10,
   "metadata": {},
   "outputs": [
    {
     "data": {
      "text/plain": [
       "array([ 2.01958024e-01, -6.19374343e-06, -1.81365590e+02])"
      ]
     },
     "execution_count": 10,
     "metadata": {},
     "output_type": "execute_result"
    }
   ],
   "source": [
    "b3 = split_points[14]\n",
    "def fnctn(x,b1,b2,b4):\n",
    "    return b1-b2*x-(np.arctan(b3/(x-b4))/sc.pi)\n",
    "\n",
    "form_gr, tmp = curve_fit(fnctn, x_initial_data, y_initial_data)\n",
    "form_gr"
   ]
  },
  {
   "cell_type": "markdown",
   "metadata": {},
   "source": [
    "## Построение графика"
   ]
  },
  {
   "cell_type": "code",
   "execution_count": 83,
   "metadata": {},
   "outputs": [
    {
     "data": {
      "image/png": "[encoded data removed]",
      "text/plain": [
       "<Figure size 432x288 with 1 Axes>"
      ]
     },
     "metadata": {
      "needs_background": "light"
     },
     "output_type": "display_data"
    }
   ],
   "source": [
    "plt.plot(x_initial_data, y_initial_data, 'o')\n",
    "x1 = np.linspace(x_initial_data[0], x_initial_data[24], 50)\n",
    "plt.plot(x1, fnctn(x1, *form_gr), color = 'tab:red')\n",
    "pass"
   ]
  },
  {
   "cell_type": "markdown",
   "metadata": {},
   "source": [
    "## Построение графика, используя аппроксимацию полиномом\n",
    "##### Полином (многочлен) 2-ой степени относительно рабочей точки"
   ]
  },
  {
   "cell_type": "code",
   "execution_count": 88,
   "metadata": {},
   "outputs": [
    {
     "data": {
      "image/png": "[encoded data removed]",
      "text/plain": [
       "<Figure size 432x288 with 1 Axes>"
      ]
     },
     "metadata": {
      "needs_background": "light"
     },
     "output_type": "display_data"
    }
   ],
   "source": [
    "c = np.polyfit(x_initial_data, y_initial_data, 2)  \n",
    "plt.plot(x_initial_data, y_initial_data, 'o')\n",
    "x1 = np.linspace(x_initial_data[0], x_initial_data[24], 50)\n",
    "y1 = np.polyval(c, x1)\n",
    "plt.plot(x1, y1, color = 'tab:red')\n",
    "pass"
   ]
  },
  {
   "cell_type": "markdown",
   "metadata": {},
   "source": [
    "## Вывод по проделанной работе\n",
    "\n",
    "###### Сравнивая два построенных графика, видно, что они разные. Поэтому делаем вывод,что методы имеют разную точность."
   ]
  }
 ],
 "metadata": {
  "kernelspec": {
   "display_name": "Python 3",
   "language": "python",
   "name": "python3"
  },
  "language_info": {
   "codemirror_mode": {
    "name": "ipython",
    "version": 3
   },
   "file_extension": ".py",
   "mimetype": "text/x-python",
   "name": "python",
   "nbconvert_exporter": "python",
   "pygments_lexer": "ipython3",
   "version": "3.7.8"
  }
 },
 "nbformat": 4,
 "nbformat_minor": 4
}
